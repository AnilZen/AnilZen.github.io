{
 "cells": [
  {
   "cell_type": "code",
   "execution_count": 117,
   "id": "0fdc369e-78a9-4032-8437-9817b0c9254c",
   "metadata": {},
   "outputs": [],
   "source": [
    "import numpy as np\n",
    "import csv"
   ]
  },
  {
   "cell_type": "code",
   "execution_count": 163,
   "id": "43724aa6-7d8f-4953-ba89-ec345ca7c77e",
   "metadata": {},
   "outputs": [],
   "source": [
    "t = np.linspace(-np.pi/2.,np.pi/2,10,endpoint=False)[1:]\n",
    "r = np.linspace(0,np.pi/2,30)"
   ]
  },
  {
   "cell_type": "code",
   "execution_count": 164,
   "id": "5c25e0d7-270b-4a2a-8f4f-cac4005cb4ff",
   "metadata": {},
   "outputs": [],
   "source": [
    "def penrose_coords(r,t):\n",
    "    R = 1./np.pi*(np.arctan(t+r)-np.arctan(t-r))\n",
    "    T = 1./np.pi*(np.arctan(t+r)+np.arctan(t-r))\n",
    "    return R,T"
   ]
  },
  {
   "cell_type": "code",
   "execution_count": 165,
   "id": "f8a397ca-fa6c-49ee-9db4-1132c33f1cba",
   "metadata": {},
   "outputs": [],
   "source": [
    "for i, t_val in enumerate(t):\n",
    "    R,T = penrose_coords(np.tan(r),np.tan(t_val))\n",
    "    np.savetxt('../tikz/sample'+str(i)+'.csv',np.stack((R,T)).T, delimiter=',', fmt='%f', header=\"a,b\", comments=\"\")"
   ]
  }
 ],
 "metadata": {
  "kernelspec": {
   "display_name": "Python 3 (ipykernel)",
   "language": "python",
   "name": "python3"
  },
  "language_info": {
   "codemirror_mode": {
    "name": "ipython",
    "version": 3
   },
   "file_extension": ".py",
   "mimetype": "text/x-python",
   "name": "python",
   "nbconvert_exporter": "python",
   "pygments_lexer": "ipython3",
   "version": "3.10.4"
  }
 },
 "nbformat": 4,
 "nbformat_minor": 5
}
